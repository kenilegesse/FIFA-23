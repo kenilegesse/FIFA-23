{
 "cells": [
  {
   "cell_type": "markdown",
   "id": "9d592b93",
   "metadata": {},
   "source": [
    "## Predicting FIFA Player Valuation using Decision Trees\n",
    "\n",
    "Project Description:\n",
    "\n",
    "The objective of this project is to predict the player valuation of footballers registered under FIFA using decision trees. The project utilizes a dataset of over 18,000 football players listed under FIFA per EA dataset. The dataset includes various player features such as age, overall skill, position, nationality, and club.\n",
    "\n",
    "The first step in this project was to clean the dataset, which involved removing duplicates, filling in missing values, and dropping unnecessary columns. After cleaning the dataset, the data was visualized using various graphs and charts to gain insights about the dataset.\n",
    "\n",
    "Next, decision tree modeling was used to predict the player valuation. The dataset was divided into training and testing sets, and the decision tree was trained on the training set. The hyperparameters of the decision tree were tuned using grid search cross-validation. The performance of the decision tree model was evaluated using various evaluation metrics such as accuracy and precison.\n",
    "\n",
    "The results of the model showed that age and overall skill were not significant predictors of player valuation. The decision tree model achieved an accuracy score of 35%, indicating that the model has a good fit. The model cannot be used to predict the player valuation of footballers based on their age and overall skill.\n",
    "\n",
    "In conclusion, this project demonstrates the use of decision trees to predict player valuation using FIFA player data. The project can be extended by incorporating more features such as position, and club to improve the accuracy of the model. The model can also be used by clubs, agents, and other stakeholders in the football industry to predict the market value of football players."
   ]
  },
  {
   "cell_type": "code",
   "execution_count": null,
   "id": "fe7012ac",
   "metadata": {},
   "outputs": [],
   "source": []
  }
 ],
 "metadata": {
  "kernelspec": {
   "display_name": "Python 3 (ipykernel)",
   "language": "python",
   "name": "python3"
  },
  "language_info": {
   "codemirror_mode": {
    "name": "ipython",
    "version": 3
   },
   "file_extension": ".py",
   "mimetype": "text/x-python",
   "name": "python",
   "nbconvert_exporter": "python",
   "pygments_lexer": "ipython3",
   "version": "3.9.13"
  }
 },
 "nbformat": 4,
 "nbformat_minor": 5
}
