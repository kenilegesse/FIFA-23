{
 "cells": [
  {
   "cell_type": "markdown",
   "id": "1f3e98c3",
   "metadata": {},
   "source": [
    "## Final Project Objective\n",
    "## Predicting the value of a player using 'Age' and 'Overall' skills per ML principles using cleaned data"
   ]
  },
  {
   "cell_type": "code",
   "execution_count": 24,
   "id": "34666290",
   "metadata": {},
   "outputs": [],
   "source": [
    "import pandas as pd\n",
    "from sklearn.tree import DecisionTreeClassifier\n",
    "from sklearn.model_selection import train_test_split\n",
    "from sklearn.metrics import accuracy_score"
   ]
  },
  {
   "cell_type": "markdown",
   "id": "eaed4afa",
   "metadata": {},
   "source": [
    "### Using the entire dataset"
   ]
  },
  {
   "cell_type": "code",
   "execution_count": 25,
   "id": "f2252d39",
   "metadata": {},
   "outputs": [
    {
     "data": {
      "text/plain": [
       "array([2400000], dtype=int64)"
      ]
     },
     "execution_count": 25,
     "metadata": {},
     "output_type": "execute_result"
    }
   ],
   "source": [
    "fifa_players = pd.read_csv('C:\\\\Users\\\\kenes\\\\Desktop\\\\Documents\\\\Data Science\\\\FIFA 23 PROJECT\\\\Fifa 23 Players Data.csv')\n",
    "X = fifa_players[['Age','Overall']]\n",
    "y = fifa_players['Value(in Euro)']\n",
    "y\n",
    "\n",
    "model = DecisionTreeClassifier()\n",
    "model.fit(X.values,y.values)\n",
    "predictions = model.predict([[23,70]])\n",
    "predictions"
   ]
  },
  {
   "cell_type": "markdown",
   "id": "d2882e04",
   "metadata": {},
   "source": [
    "#### Model accuracy"
   ]
  },
  {
   "cell_type": "code",
   "execution_count": 22,
   "id": "a4608221",
   "metadata": {},
   "outputs": [
    {
     "data": {
      "text/plain": [
       "0.35005393743257823"
      ]
     },
     "execution_count": 22,
     "metadata": {},
     "output_type": "execute_result"
    }
   ],
   "source": [
    "X_train,X_test,y_train,y_test = train_test_split(X,y,test_size=.3)\n",
    "model_2 = DecisionTreeClassifier()\n",
    "model_2.fit(X_train.values,y_train.values)\n",
    "predictions_2 = model.predict(X_test.values)\n",
    "predictions_2\n",
    "\n",
    "score = accuracy_score(y_test,predictions_2)\n",
    "score"
   ]
  },
  {
   "cell_type": "markdown",
   "id": "cfdf45d7",
   "metadata": {},
   "source": [
    "### Using European \"top club\" players dataset"
   ]
  },
  {
   "cell_type": "code",
   "execution_count": 30,
   "id": "23424fbb",
   "metadata": {},
   "outputs": [
    {
     "data": {
      "text/plain": [
       "0     Paris Saint-Germain\n",
       "1          Real Madrid CF\n",
       "2            FC Barcelona\n",
       "3         Manchester City\n",
       "4     Paris Saint-Germain\n",
       "5               Liverpool\n",
       "6          Real Madrid CF\n",
       "7       FC Bayern München\n",
       "8       Manchester United\n",
       "9               Liverpool\n",
       "10      Tottenham Hotspur\n",
       "11    Paris Saint-Germain\n",
       "12      Tottenham Hotspur\n",
       "13      Manchester United\n",
       "14     Atlético de Madrid\n",
       "15      FC Bayern München\n",
       "16        Manchester City\n",
       "17      FC Bayern München\n",
       "18              Liverpool\n",
       "19                Chelsea\n",
       "Name: Club Name, dtype: object"
      ]
     },
     "execution_count": 30,
     "metadata": {},
     "output_type": "execute_result"
    }
   ],
   "source": [
    "fifa_players['Club Name'].head(20)"
   ]
  },
  {
   "cell_type": "code",
   "execution_count": 120,
   "id": "0fb97008",
   "metadata": {},
   "outputs": [
    {
     "data": {
      "text/plain": [
       "(252, 89)"
      ]
     },
     "execution_count": 120,
     "metadata": {},
     "output_type": "execute_result"
    }
   ],
   "source": [
    "top_clubs = ['Manchester United','Paris Saint-German','Chelsea','Real Madrid CF', 'FC Barcelona', 'Manchester City',\n",
    "                           'Liverpool', 'Tottenham Hotspur','Atlético de Madrid']\n",
    "europe_players = fifa_players[fifa_players['Club Name'].isin(top_clubs)]\n",
    "europe_players.shape"
   ]
  },
  {
   "cell_type": "code",
   "execution_count": 117,
   "id": "d06fc811",
   "metadata": {},
   "outputs": [
    {
     "data": {
      "text/plain": [
       "array([2900000], dtype=int64)"
      ]
     },
     "execution_count": 117,
     "metadata": {},
     "output_type": "execute_result"
    }
   ],
   "source": [
    "W = europe_players[['Age','Overall']]\n",
    "V = europe_players['Value(in Euro)']\n",
    "y\n",
    "\n",
    "model = DecisionTreeClassifier()\n",
    "model.fit(W.values,V.values)\n",
    "predictions = model.predict([[23,70]])\n",
    "predictions"
   ]
  },
  {
   "cell_type": "markdown",
   "id": "5071e240",
   "metadata": {},
   "source": [
    "#### Model accuracy"
   ]
  },
  {
   "cell_type": "code",
   "execution_count": 118,
   "id": "1fc33480",
   "metadata": {},
   "outputs": [
    {
     "data": {
      "text/plain": [
       "0.7894736842105263"
      ]
     },
     "execution_count": 118,
     "metadata": {},
     "output_type": "execute_result"
    }
   ],
   "source": [
    "W_train,W_test,V_train,V_test = train_test_split(W,V,test_size=.3)\n",
    "model_2 = DecisionTreeClassifier()\n",
    "model_2.fit(W_train.values,V_train.values)\n",
    "predictions_2 = model.predict(W_test.values)\n",
    "predictions_2\n",
    "\n",
    "score = accuracy_score(V_test,predictions_2)\n",
    "score"
   ]
  }
 ],
 "metadata": {
  "kernelspec": {
   "display_name": "Python 3 (ipykernel)",
   "language": "python",
   "name": "python3"
  },
  "language_info": {
   "codemirror_mode": {
    "name": "ipython",
    "version": 3
   },
   "file_extension": ".py",
   "mimetype": "text/x-python",
   "name": "python",
   "nbconvert_exporter": "python",
   "pygments_lexer": "ipython3",
   "version": "3.9.13"
  }
 },
 "nbformat": 4,
 "nbformat_minor": 5
}
