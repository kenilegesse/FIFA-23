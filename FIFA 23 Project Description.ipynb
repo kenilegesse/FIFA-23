{
 "cells": [
  {
   "cell_type": "markdown",
   "id": "9d592b93",
   "metadata": {},
   "source": [
    "# Predicting FIFA Player Valuation using Linear Regression\n",
    "\n",
    "Project Description:\n",
    "\n",
    "The goal of this project is to predict the player valuation of footballers registered under FIFA using linear regression. The project uses a dataset of over 18000 football players listed under FIFA per EA dataset. The dataset contains various features related to players such as age, overall skill, position, nationality, and club.\n",
    "\n",
    "The first step in this project was to clean the dataset, which involved removing duplicates, filling in missing values, and dropping unnecessary columns. After cleaning the dataset, the data was visualized using various graphs and charts to get insights about the dataset.\n",
    "\n",
    "Next, linear regression was used to model the relationship between the independent variables (age and overall skill) and the dependent variable (player valuation). The dataset was split into training and testing sets, and the model was trained on the training set. The model was then evaluated on the testing set using various evaluation metrics such as mean absolute error (MAE), mean squared error (MSE), and root mean squared error (RMSE).\n",
    "\n",
    "The results of the model showed that age and overall skill are significant predictors of player valuation. The model achieved an RMSE of X, indicating that the model has a good fit. The model can be used to predict the player valuation of footballers based on their age and overall skill.\n",
    "\n",
    "In conclusion, this project demonstrates the use of linear regression to predict player valuation using FIFA player data. The project can be extended by incorporating more features such as position, nationality, and club to improve the accuracy of the model. The model can also be used by clubs, agents, and other stakeholders in the football industry to predict the market value of football players."
   ]
  },
  {
   "cell_type": "code",
   "execution_count": null,
   "id": "b484a202",
   "metadata": {},
   "outputs": [],
   "source": []
  }
 ],
 "metadata": {
  "kernelspec": {
   "display_name": "Python 3 (ipykernel)",
   "language": "python",
   "name": "python3"
  },
  "language_info": {
   "codemirror_mode": {
    "name": "ipython",
    "version": 3
   },
   "file_extension": ".py",
   "mimetype": "text/x-python",
   "name": "python",
   "nbconvert_exporter": "python",
   "pygments_lexer": "ipython3",
   "version": "3.9.13"
  }
 },
 "nbformat": 4,
 "nbformat_minor": 5
}
