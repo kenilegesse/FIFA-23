{
 "cells": [
  {
   "cell_type": "markdown",
   "id": "9d592b93",
   "metadata": {},
   "source": [
    "## Predicting Player Valuation in FIFA using Decision Trees with Filtered European Top Club Players\n",
    "\n",
    "Project Description:\n",
    "\n",
    "The aim of this project is to predict the player valuation of footballers registered under FIFA using a decision tree algorithm. The project uses a dataset of over 18,000 players listed under FIFA per EA dataset. The dataset contains various features related to players such as age, overall skill, position, nationality, club, and player valuation.\n",
    "\n",
    "The first step in this project was to clean the dataset by removing duplicates, filling in missing values, and dropping unnecessary columns. After cleaning the dataset, the data was visualized using various graphs and charts to gain insights about the dataset.\n",
    "\n",
    "Next, decision tree modeling was used to predict the player valuation. The independent variables used in the model were age and overall skill. Initially, the model was trained using the entire dataset, which resulted in a model accuracy of 35%. However, when the European top club players were filtered, the model accuracy improved to 75%, which met the prediction goals.\n",
    "\n",
    "The hyperparameters of the decision tree were optimized using grid search cross-validation. The performance of the decision tree model was evaluated using various evaluation metrics such as accuracy and precison.\n",
    "\n",
    "The results of the model showed that age and overall skill were significant predictors of player valuation for European top club players. The model can be used to predict the player valuation of footballers based on their age and overall skill, and can be helpful for clubs, agents, and other stakeholders in the football industry to predict the market value of football players.\n",
    "\n",
    "In conclusion, this project demonstrates the use of decision trees to predict the player valuation of footballers in FIFA. By filtering the dataset and focusing on European top club players, the model accuracy was improved significantly. This project can be extended by incorporating more features such as player position, and club to further improve the accuracy of the model."
   ]
  },
  {
   "cell_type": "code",
   "execution_count": null,
   "id": "fe7012ac",
   "metadata": {},
   "outputs": [],
   "source": []
  }
 ],
 "metadata": {
  "kernelspec": {
   "display_name": "Python 3 (ipykernel)",
   "language": "python",
   "name": "python3"
  },
  "language_info": {
   "codemirror_mode": {
    "name": "ipython",
    "version": 3
   },
   "file_extension": ".py",
   "mimetype": "text/x-python",
   "name": "python",
   "nbconvert_exporter": "python",
   "pygments_lexer": "ipython3",
   "version": "3.9.13"
  }
 },
 "nbformat": 4,
 "nbformat_minor": 5
}
